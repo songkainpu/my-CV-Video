{
 "cells": [
  {
   "cell_type": "code",
   "execution_count": 6,
   "metadata": {},
   "outputs": [],
   "source": [
    "import numpy\n",
    "import cv2\n",
    "from gco import pygco\n",
    "import matplotlib.image\n",
    "import matplotlib.pyplot\n",
    "import os\n",
    "import typing\n",
    "# @cache\n",
    "def compute_distance(point1: numpy.ndarray, point2: numpy.ndarray) -> float:\n",
    "    \"\"\"\n",
    "    compute distance of two pixels\n",
    "    Parameters\n",
    "    ----------\n",
    "    point1: ndarray, uint8, shape=(3)\n",
    "        point one\n",
    "    point2: ndarray, uint8, shape=(3)\n",
    "        point two\n",
    "    \"\"\"\n",
    "    # return (abs(point1[0]-point2[0]) + abs(point1[1] - point2[1]) + abs(point1[2] - point2[2]) ) / 3 / 255\n",
    "    # if not dividing 255 as the C pseudocode example, there will be a overflowing of MAX_VALUE of Integer when calling pycgo.cut_grid_graph\n",
    "    return numpy.sum(numpy.abs(point1-point2)) /3 / 255"
   ]
  },
  {
   "cell_type": "code",
   "execution_count": 7,
   "metadata": {},
   "outputs": [
    {
     "name": "stdout",
     "output_type": "stream",
     "text": [
      "file_list:['test0084.jpg', 'test0090.jpg', 'test0047.jpg', 'test0053.jpg', 'test0133.jpg', 'test0127.jpg', 'test0126.jpg', 'test0132.jpg', 'test0052.jpg', 'test0046.jpg', 'test0091.jpg', 'test0085.jpg', 'test0093.jpg', 'test0087.jpg', 'test0050.jpg', 'test0044.jpg', 'test0078.jpg', 'test0124.jpg', 'test0130.jpg', 'test0118.jpg', 'test0119.jpg', 'test0131.jpg', 'test0125.jpg', 'test0079.jpg', 'test0045.jpg', 'test0051.jpg', 'test0086.jpg', 'test0092.jpg', 'test0096.jpg', 'test0082.jpg', 'test0069.jpg', 'test0055.jpg', 'test0041.jpg', 'test0109.jpg', 'test0121.jpg', 'test0135.jpg', 'test0134.jpg', 'test0120.jpg', 'test0108.jpg', 'test0040.jpg', 'test0054.jpg', 'test0068.jpg', 'test0083.jpg', 'test0097.jpg', 'test0081.jpg', 'test0095.jpg', 'test0042.jpg', 'test0056.jpg', 'test0136.jpg', 'test0122.jpg', 'test0123.jpg', 'test0137.jpg', 'test0057.jpg', 'test0043.jpg', 'test0094.jpg', 'test0080.jpg', 'test0024.jpg', 'test0030.jpg', 'test0018.jpg', 'test0019.jpg', 'test0031.jpg', 'test0025.jpg', 'test0033.jpg', 'test0027.jpg', 'test0026.jpg', 'test0032.jpg', 'test0036.jpg', 'test0022.jpg', 'test0023.jpg', 'test0037.jpg', 'test0009.jpg', 'test0021.jpg', 'test0035.jpg', 'test0140.jpg', 'test0034.jpg', 'test0020.jpg', 'test0008.jpg', 'test0005.jpg', 'test0011.jpg', 'test0039.jpg', 'test0038.jpg', 'test0010.jpg', 'test0004.jpg', 'test0012.jpg', 'test0006.jpg', 'test0007.jpg', 'test0013.jpg', 'test0017.jpg', 'test0003.jpg', 'test0002.jpg', 'test0016.jpg', 'test0028.jpg', 'test0000.jpg', 'test0014.jpg', 'test0015.jpg', 'test0001.jpg', 'test0029.jpg', 'test0099.jpg', 'test0066.jpg', 'test0072.jpg', 'test0112.jpg', 'test0106.jpg', 'test0107.jpg', 'test0113.jpg', 'test0073.jpg', 'test0067.jpg', 'test0098.jpg', 'test0071.jpg', 'test0065.jpg', 'test0059.jpg', 'test0105.jpg', 'test0111.jpg', 'test0139.jpg', 'test0138.jpg', 'test0110.jpg', 'test0104.jpg', 'test0058.jpg', 'test0064.jpg', 'test0070.jpg', 'test0048.jpg', 'test0074.jpg', 'test0060.jpg', 'test0128.jpg', 'test0100.jpg', 'test0114.jpg', 'test0115.jpg', 'test0101.jpg', 'test0129.jpg', 'test0061.jpg', 'test0075.jpg', 'test0049.jpg', 'test0088.jpg', 'test0063.jpg', 'test0077.jpg', 'test0117.jpg', 'test0103.jpg', 'test0102.jpg', 'test0116.jpg', 'test0076.jpg', 'test0062.jpg', 'test0089.jpg']\n"
     ]
    }
   ],
   "source": [
    "ROAD_FILE_PATH = \"Road\"\n",
    "ROAD_FRAME_PATH = f\"{ROAD_FILE_PATH}{os.sep}src\"\n",
    "CAMERAS_PARAMETERS_PATH = f\"{ROAD_FILE_PATH}{os.sep}cameras.txt\"\n",
    "file_list: typing.List[str] = os.listdir(path=ROAD_FRAME_PATH)\n",
    "print(f\"file_list:{file_list}\")\n",
    "frame_num: int = len(file_list)\n",
    "camera_paramters:numpy.ndarray = numpy.loadtxt(fname=CAMERAS_PARAMETERS_PATH, dtype=numpy.float32, skiprows=1)\n",
    "K = []\n",
    "R = []\n",
    "T = []\n",
    "for i in range(frame_num):\n",
    "    K.append(camera_paramters[7*i:7*i+3, :])\n",
    "    R.append(camera_paramters[7*i+3:7*i+6, :])\n",
    "    T.append(camera_paramters[7*i+6, :])\n",
    "camera_paramters = None\n",
    "img0: numpy.ndarray = cv2.imread(f\"{ROAD_FILE_PATH}{os.sep}{file_list[0]}\", cv2.IMREAD_COLOR)\n",
    "img0 = cv2.cvtColor(img0, cv2.COLOR_BGR2RGB)\n",
    "# img2 = cv2.resize(img2, (width1, height1))\n",
    "height0, width0, _ = img0.shape\n",
    "D = numpy.linspace(0.0001, 0.01, 50)"
   ]
  },
  {
   "cell_type": "markdown",
   "metadata": {},
   "source": [
    "## process 5 frames"
   ]
  },
  {
   "cell_type": "code",
   "execution_count": null,
   "metadata": {},
   "outputs": [],
   "source": [
    "NUM_FRAMES_PROCESSED: int = 5 \n",
    "for start in range(frame_num - NUM_FRAMES_PROCESSED):\n",
    "    end = start + (NUM_FRAMES_PROCESSED - 1)\n",
    "    tem_k = K[start:end+1]\n",
    "    tem_k = K[start:end+1]\n",
    "    tem_k = K[start:end+1]\n",
    "    "
   ]
  }
 ],
 "metadata": {
  "kernelspec": {
   "display_name": ".venv",
   "language": "python",
   "name": "python3"
  },
  "language_info": {
   "codemirror_mode": {
    "name": "ipython",
    "version": 3
   },
   "file_extension": ".py",
   "mimetype": "text/x-python",
   "name": "python",
   "nbconvert_exporter": "python",
   "pygments_lexer": "ipython3",
   "version": "3.10.13"
  }
 },
 "nbformat": 4,
 "nbformat_minor": 2
}
