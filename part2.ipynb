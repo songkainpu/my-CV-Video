{
 "cells": [
  {
   "cell_type": "markdown",
   "metadata": {},
   "source": [
    "Part 2: Depth from Rectified Stereo Images\n",
    "\n",
    "Write a program to estimate a depth map from the pair of rectified images in Figure 2 using an MRF and multiple label graphcuts.\n",
    "Show your best result and provide some discussion if necessary (particularly if the results are not as good as expected)."
   ]
  },
  {
   "cell_type": "code",
   "execution_count": null,
   "metadata": {},
   "outputs": [],
   "source": [
    "\n",
    "import numpy\n",
    "from gco import pygco\n",
    "from utils import get_logger, INTEGER_MAX_VALUE\n",
    "import matplotlib.image\n",
    "import matplotlib.pyplot"
   ]
  },
  {
   "cell_type": "code",
   "execution_count": null,
   "metadata": {},
   "outputs": [],
   "source": [
    "def compute_distance(point1: numpy.ndarray, point2: numpy.ndarray) -> int:\n",
    "    \"\"\"\n",
    "    compute distance of two pixels\n",
    "    Parameters\n",
    "    ----------\n",
    "    point1: ndarray, uint8, shape=(3)\n",
    "        point one\n",
    "    point2: ndarray, uint8, shape=(3)\n",
    "        point two\n",
    "    \"\"\"\n",
    "    # return (abs(point1[0]-point2[0]) + abs(point1[1] - point2[1]) + abs(point1[2] - point2[2]) ) / 3 / 255\n",
    "    # if not dividing 255 as the C pseudocode example, there will be a overflowing of MAX_VALUE of Integer when calling pycgo.cut_grid_graph\n",
    "    return numpy.sum(numpy.abs(point1-point2)) // 3"
   ]
  }
 ],
 "metadata": {
  "kernelspec": {
   "display_name": ".venv",
   "language": "python",
   "name": "python3"
  },
  "language_info": {
   "codemirror_mode": {
    "name": "ipython",
    "version": 3
   },
   "file_extension": ".py",
   "mimetype": "text/x-python",
   "name": "python",
   "nbconvert_exporter": "python",
   "pygments_lexer": "ipython3",
   "version": "3.8.2"
  }
 },
 "nbformat": 4,
 "nbformat_minor": 2
}
