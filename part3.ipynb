{
 "cells": [
  {
   "cell_type": "markdown",
   "metadata": {},
   "source": [
    "Write a program to estimate a depth map from a pair of calibrated images in Figure 4 using an MRF and graphcuts. The camera matrices are available here. Note that, for finding the epipolar lines using the provided camera matrices, you might want to use the following equation:"
   ]
  },
  {
   "cell_type": "markdown",
   "metadata": {},
   "source": []
  },
  {
   "cell_type": "markdown",
   "metadata": {},
   "source": [
    "### camera metrices:\n",
    "1221.2270770\t0.0000000\t479.5000000\t\n",
    "0.0000000\t1221.2270770\t269.5000000\t\n",
    "0.0000000\t0.0000000\t1.0000000\t\n",
    "1.0000000000\t0.0000000000\t0.0000000000\t\n",
    "0.0000000000\t1.0000000000\t0.0000000000\t\n",
    "0.0000000000\t0.0000000000\t1.0000000000\t\n",
    "0.0000000000\t0.0000000000\t0.0000000000\t\n",
    "\n",
    "\n",
    "1221.2270770\t0.0000000\t479.5000000\t\n",
    "0.0000000\t1221.2270770\t269.5000000\t\n",
    "0.0000000\t0.0000000\t1.0000000\t\n",
    "0.9998813487\t0.0148994942\t0.0039106989\t\n",
    "-0.0148907594\t0.9998865876\t-0.0022532664\t\n",
    "-0.0039438279\t0.0021947658\t0.9999898146\t\n",
    "-9.9909793759\t0.2451742154\t0.1650832670\t"
   ]
  },
  {
   "cell_type": "code",
   "execution_count": 94,
   "metadata": {},
   "outputs": [],
   "source": [
    "import numpy\n",
    "import cv2\n",
    "from gco import pygco\n",
    "import matplotlib.image\n",
    "import matplotlib.pyplot"
   ]
  },
  {
   "cell_type": "code",
   "execution_count": 95,
   "metadata": {},
   "outputs": [],
   "source": [
    "# @cache\n",
    "def compute_distance(point1: numpy.ndarray, point2: numpy.ndarray) -> float:\n",
    "    \"\"\"\n",
    "    compute distance of two pixels\n",
    "    Parameters\n",
    "    ----------\n",
    "    point1: ndarray, uint8, shape=(3)\n",
    "        point one\n",
    "    point2: ndarray, uint8, shape=(3)\n",
    "        point two\n",
    "    \"\"\"\n",
    "    # return (abs(point1[0]-point2[0]) + abs(point1[1] - point2[1]) + abs(point1[2] - point2[2]) ) / 3 / 255\n",
    "    # if not dividing 255 as the C pseudocode example, there will be a overflowing of MAX_VALUE of Integer when calling pycgo.cut_grid_graph\n",
    "    return numpy.sum(numpy.abs(point1-point2)) /3 / 255"
   ]
  },
  {
   "cell_type": "code",
   "execution_count": 96,
   "metadata": {},
   "outputs": [],
   "source": [
    "\n",
    "K1: numpy.mat = numpy.mat(data=[[1221.2270770,0,479.5],[0,1221.2270770,269.5],[0,0,1]])\n",
    "R1: numpy.mat = numpy.mat(data=[[1,0,0],[0,1,0],[0,0,1]])\n",
    "T1: numpy.mat = numpy.mat(data=[0,0,0]).T\n",
    "K2: numpy.mat = numpy.mat(data=[[1221.2270770,0,479.5],[0,1221.227077,269.5],[0,0,1]])\n",
    "R2: numpy.mat = numpy.mat(data=[[0.9998813487,0.0148994942,0.0039106989],[-0.0148907594,0.9998865876,-0.0022532664],[-0.0039438279,0.0021947658,0.9999898146]])\n",
    "T2: numpy.mat = numpy.mat(data=[-9.9909793759,0.2451742154,0.1650832670]).T\n",
    "K1_inv: numpy.mat =  numpy.mat(data=numpy.linalg.inv(K1))\n"
   ]
  },
  {
   "cell_type": "code",
   "execution_count": 97,
   "metadata": {},
   "outputs": [
    {
     "name": "stdout",
     "output_type": "stream",
     "text": [
      "point_part_matrice:[[ 1.00141684e+00 -1.57754771e-02 -1.24907567e+00]\n",
      " [ 1.57625060e-02  9.99389337e-01 -4.71598561e+00]\n",
      " [ 3.20227006e-06 -1.84508389e-06  9.98951576e-01]]\n"
     ]
    }
   ],
   "source": [
    "\n",
    "img1: numpy.ndarray = cv2.imread(\"data/not_rectified_image_1.jpeg\", cv2.IMREAD_COLOR)\n",
    "img1 = cv2.cvtColor(img1, cv2.COLOR_BGR2RGB)\n",
    "height1, width1, _ = img1.shape\n",
    "\n",
    "img2: numpy.ndarray = cv2.imread(\"data/not_rectified_image_2.jpeg\", cv2.IMREAD_COLOR)\n",
    "img2 = cv2.cvtColor(img2, cv2.COLOR_BGR2RGB)\n",
    "img2 = cv2.resize(img2, (width1, height1))\n",
    "\n",
    "height2, width2, _ = img2.shape\n",
    "\n",
    "# img1.reshape(1,-1,3)\n",
    "DEPTH_RANGE:int = 50\n",
    "unary_cost = numpy.ndarray = numpy.zeros(shape=(height1, width1, DEPTH_RANGE), dtype=numpy.float64)\n",
    "    # part1 = K2.dot(R2.T).dot(R1).dot(invK1).dot(Xh)\n",
    "\n",
    "point_part_matrice = K2 @ R2.T @ R1 @ K1_inv\n",
    "print(f\"point_part_matrice:{point_part_matrice}\")\n",
    "epipolar_line_matrice = K2 @ R2.T @ (T1-T2)\n",
    "for d in range(DEPTH_RANGE):\n",
    "    epipolar_line = d * epipolar_line_matrice\n",
    "    for y1 in range(height1):\n",
    "        for x1 in range(width1):\n",
    "            xh1 = numpy.mat(data=[y1,x1, 1])\n",
    "            xh2 = (point_part_matrice @ xh1.T) + epipolar_line\n",
    "            y2, x2, scale = xh2\n",
    "            y2 = int(y2/scale)\n",
    "            x2 = int(x2/scale)\n",
    "            # print(f\"y2:{y2},x2:{x2},scale:{scale}\")\n",
    "            if y2 < 0 or y2 >= height2 or x2 < 0 or x2 >= width2:\n",
    "                unary_cost[y1, x1, d] = 1\n",
    "            else:\n",
    "                unary_cost[y1, x1, d] = compute_distance(point1=img1[y1,x1], point2=img2[y2, x2])\n",
    "print(f\"unary_cost:{unary_cost}\")\n",
    "i = numpy.arange(DEPTH_RANGE, dtype=numpy.int32)\n",
    "j = numpy.arange(DEPTH_RANGE, dtype=numpy.int32)\n",
    "fp = numpy.abs(i[: , numpy.newaxis] - j)\n",
    "# LAMBDA = 0.01\n",
    "lam = 0.01\n",
    "while lam <= 1:\n",
    "    labels = pygco.cut_grid_graph_simple(unary_cost=unary_cost, pairwise_cost=fp * lam, connect=8, algorithm='swap')\n",
    "    labels = labels.reshape(unary_cost.shape[0], unary_cost.shape[1])\n",
    "    print(f\"labels:{labels}\")\n",
    "    img_path = f\"data/no-rectified-labels{lam}.png\"\n",
    "    cv2.imwrite(img_path, labels)\n",
    "    img_show = matplotlib.image.imread(img_path)\n",
    "    matplotlib.pyplot.title(img_path)\n",
    "    matplotlib.pyplot.imshow(X=img_show, cmap='gray') \n",
    "    matplotlib.pyplot.show()\n",
    "    lam += 0.01\n",
    "\n",
    "\n",
    "\n",
    "                \n",
    "\n",
    "            \n",
    "\n",
    "\n",
    "    \n",
    "\n"
   ]
  }
 ],
 "metadata": {
  "kernelspec": {
   "display_name": ".venv",
   "language": "python",
   "name": "python3"
  },
  "language_info": {
   "codemirror_mode": {
    "name": "ipython",
    "version": 3
   },
   "file_extension": ".py",
   "mimetype": "text/x-python",
   "name": "python",
   "nbconvert_exporter": "python",
   "pygments_lexer": "ipython3",
   "version": "3.10.13"
  }
 },
 "nbformat": 4,
 "nbformat_minor": 2
}
