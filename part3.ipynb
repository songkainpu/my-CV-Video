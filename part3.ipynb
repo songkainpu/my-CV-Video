{
 "cells": [
  {
   "cell_type": "markdown",
   "metadata": {},
   "source": [
    "Write a program to estimate a depth map from a pair of calibrated images in Figure 4 using an MRF and graphcuts. The camera matrices are available here. Note that, for finding the epipolar lines using the provided camera matrices, you might want to use the following equation:"
   ]
  },
  {
   "cell_type": "markdown",
   "metadata": {},
   "source": []
  },
  {
   "cell_type": "markdown",
   "metadata": {},
   "source": [
    "### camera metrices:\n",
    "1221.2270770\t0.0000000\t479.5000000\t\n",
    "0.0000000\t1221.2270770\t269.5000000\t\n",
    "0.0000000\t0.0000000\t1.0000000\t\n",
    "1.0000000000\t0.0000000000\t0.0000000000\t\n",
    "0.0000000000\t1.0000000000\t0.0000000000\t\n",
    "0.0000000000\t0.0000000000\t1.0000000000\t\n",
    "0.0000000000\t0.0000000000\t0.0000000000\t\n",
    "\n",
    "\n",
    "1221.2270770\t0.0000000\t479.5000000\t\n",
    "0.0000000\t1221.2270770\t269.5000000\t\n",
    "0.0000000\t0.0000000\t1.0000000\t\n",
    "0.9998813487\t0.0148994942\t0.0039106989\t\n",
    "-0.0148907594\t0.9998865876\t-0.0022532664\t\n",
    "-0.0039438279\t0.0021947658\t0.9999898146\t\n",
    "-9.9909793759\t0.2451742154\t0.1650832670\t"
   ]
  },
  {
   "cell_type": "code",
   "execution_count": null,
   "metadata": {},
   "outputs": [],
   "source": [
    "import numpy\n",
    "\n",
    "K1 = numpy.array(object=[[1221.2270770,0,479.5],[0,1221.2270770,269.5],[0,0,1]])\n",
    "R1 = numpy.array(object=[[1,0,0],[0,1,0],[0,0,1]])\n",
    "T1 = numpy.mat([0,0,0]).T\n",
    "K2 = numpy.array([[1221.2270770,0,479.5],[0,1221.227077,269.5],[0,0,1]])\n",
    "R2 = numpy.array([[0.9998813487,0.0148994942,0.0039106989],[-0.0148907594,0.9998865876,-0.0022532664],[-0.0039438279,0.0021947658,0.9999898146]])\n",
    "T2 = numpy.mat([-9.9909793759,0.2451742154,0.1650832670]).T\n",
    "invK1 = numpy.linalg.inv(K1) \n"
   ]
  }
 ],
 "metadata": {
  "language_info": {
   "name": "python"
  }
 },
 "nbformat": 4,
 "nbformat_minor": 2
}
