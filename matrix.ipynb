{
 "cells": [
  {
   "cell_type": "code",
   "execution_count": 6,
   "metadata": {},
   "outputs": [],
   "source": [
    "import pyopencl as cl\n",
    "import numpy\n",
    "import time"
   ]
  },
  {
   "cell_type": "code",
   "execution_count": 7,
   "metadata": {},
   "outputs": [
    {
     "name": "stdout",
     "output_type": "stream",
     "text": [
      "[[512.805   520.81805 507.3237  ... 498.42325 515.8787  493.18442]\n",
      " [494.1038  497.87378 488.82632 ... 490.1228  497.6528  482.5827 ]\n",
      " [513.4464  515.1043  507.78064 ... 512.11694 522.31854 508.23407]\n",
      " ...\n",
      " [519.3453  518.00385 520.05164 ... 514.95764 525.53015 503.58734]\n",
      " [519.65424 524.8355  522.49615 ... 510.86127 530.4609  509.93924]\n",
      " [512.21423 512.2386  507.13354 ... 503.00583 512.8709  496.72263]]\n",
      "5.960893869400024\n"
     ]
    }
   ],
   "source": [
    "\n",
    "platform = cl.get_platforms()[0]\n",
    "device = platform.get_devices()[0]\n",
    "context = cl.Context([device])\n",
    "queue = cl.CommandQueue(context)\n",
    "\n",
    "N = 2048\n",
    "\n",
    "a = numpy.random.rand(N, N).astype(numpy.float32)\n",
    "b = numpy.random.rand(N, N).astype(numpy.float32)\n",
    "\n",
    "a_buffer = cl.Buffer(context, cl.mem_flags.READ_ONLY | cl.mem_flags.COPY_HOST_PTR, hostbuf=a)\n",
    "b_buffer = cl.Buffer(context, cl.mem_flags.READ_ONLY | cl.mem_flags.COPY_HOST_PTR, hostbuf=b)\n",
    "c_buffer = cl.Buffer(context, cl.mem_flags.WRITE_ONLY, a.nbytes)\n",
    "\n",
    "kernel_code = \"\"\"\n",
    "__kernel void matrix_multiply(__global float* a, __global float* b, __global float* c, int N) {\n",
    "    int row = get_global_id(0);\n",
    "    int col = get_global_id(1);\n",
    "    \n",
    "    if (row < N && col < N) {\n",
    "        float sum = 0.0;\n",
    "        for (int i = 0; i < N; i++) {\n",
    "            sum += a[row * N + i] * b[i * N + col];\n",
    "        }\n",
    "        c[row * N + col] = sum;\n",
    "    }\n",
    "}\n",
    "\"\"\"\n",
    "program = cl.Program(context, kernel_code).build()\n",
    "start = time.time()\n",
    "\n",
    "program.matrix_multiply(queue, a.shape, None, a_buffer, b_buffer, c_buffer, numpy.int32(N))\n",
    "\n",
    "c = numpy.empty((N, N), dtype=numpy.float32)\n",
    "cl.enqueue_copy(queue, c, c_buffer)\n",
    "end = time.time()\n",
    "\n",
    "print(c)\n",
    "print(end- start)\n"
   ]
  }
 ],
 "metadata": {
  "kernelspec": {
   "display_name": ".venv",
   "language": "python",
   "name": "python3"
  },
  "language_info": {
   "codemirror_mode": {
    "name": "ipython",
    "version": 3
   },
   "file_extension": ".py",
   "mimetype": "text/x-python",
   "name": "python",
   "nbconvert_exporter": "python",
   "pygments_lexer": "ipython3",
   "version": "3.10.13"
  }
 },
 "nbformat": 4,
 "nbformat_minor": 2
}
